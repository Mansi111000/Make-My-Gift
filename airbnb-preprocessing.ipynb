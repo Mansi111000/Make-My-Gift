{
 "cells": [
  {
   "cell_type": "code",
   "execution_count": 1,
   "id": "2b6e573f",
   "metadata": {
    "_cell_guid": "b1076dfc-b9ad-4769-8c92-a6c4dae69d19",
    "_uuid": "8f2839f25d086af736a60e9eeb907d3b93b6e0e5",
    "execution": {
     "iopub.execute_input": "2025-01-29T18:21:42.697246Z",
     "iopub.status.busy": "2025-01-29T18:21:42.696837Z",
     "iopub.status.idle": "2025-01-29T18:21:43.727055Z",
     "shell.execute_reply": "2025-01-29T18:21:43.726046Z"
    },
    "papermill": {
     "duration": 1.036996,
     "end_time": "2025-01-29T18:21:43.728938",
     "exception": false,
     "start_time": "2025-01-29T18:21:42.691942",
     "status": "completed"
    },
    "tags": []
   },
   "outputs": [],
   "source": [
    "import pandas as pd\n",
    "import numpy as np"
   ]
  },
  {
   "cell_type": "code",
   "execution_count": 2,
   "id": "a3cd40c2",
   "metadata": {
    "execution": {
     "iopub.execute_input": "2025-01-29T18:21:43.737488Z",
     "iopub.status.busy": "2025-01-29T18:21:43.736985Z",
     "iopub.status.idle": "2025-01-29T18:21:44.641023Z",
     "shell.execute_reply": "2025-01-29T18:21:44.640184Z"
    },
    "papermill": {
     "duration": 0.909722,
     "end_time": "2025-01-29T18:21:44.642785",
     "exception": false,
     "start_time": "2025-01-29T18:21:43.733063",
     "status": "completed"
    },
    "tags": []
   },
   "outputs": [],
   "source": [
    "df=pd.read_csv(\"/kaggle/input/airbnb-dataset/Airbnb Properties Information (1).csv\")"
   ]
  },
  {
   "cell_type": "code",
   "execution_count": 3,
   "id": "f4950eec",
   "metadata": {
    "execution": {
     "iopub.execute_input": "2025-01-29T18:21:44.650272Z",
     "iopub.status.busy": "2025-01-29T18:21:44.649890Z",
     "iopub.status.idle": "2025-01-29T18:21:44.706495Z",
     "shell.execute_reply": "2025-01-29T18:21:44.705303Z"
    },
    "papermill": {
     "duration": 0.062958,
     "end_time": "2025-01-29T18:21:44.708954",
     "exception": false,
     "start_time": "2025-01-29T18:21:44.645996",
     "status": "completed"
    },
    "tags": []
   },
   "outputs": [
    {
     "name": "stderr",
     "output_type": "stream",
     "text": [
      "/usr/local/lib/python3.10/dist-packages/pandas/io/formats/format.py:1458: RuntimeWarning: invalid value encountered in greater\n",
      "  has_large_values = (abs_vals > 1e6).any()\n",
      "/usr/local/lib/python3.10/dist-packages/pandas/io/formats/format.py:1459: RuntimeWarning: invalid value encountered in less\n",
      "  has_small_values = ((abs_vals < 10 ** (-self.digits)) & (abs_vals > 0)).any()\n",
      "/usr/local/lib/python3.10/dist-packages/pandas/io/formats/format.py:1459: RuntimeWarning: invalid value encountered in greater\n",
      "  has_small_values = ((abs_vals < 10 ** (-self.digits)) & (abs_vals > 0)).any()\n",
      "/usr/local/lib/python3.10/dist-packages/pandas/io/formats/format.py:1458: RuntimeWarning: invalid value encountered in greater\n",
      "  has_large_values = (abs_vals > 1e6).any()\n",
      "/usr/local/lib/python3.10/dist-packages/pandas/io/formats/format.py:1459: RuntimeWarning: invalid value encountered in less\n",
      "  has_small_values = ((abs_vals < 10 ** (-self.digits)) & (abs_vals > 0)).any()\n",
      "/usr/local/lib/python3.10/dist-packages/pandas/io/formats/format.py:1459: RuntimeWarning: invalid value encountered in greater\n",
      "  has_small_values = ((abs_vals < 10 ** (-self.digits)) & (abs_vals > 0)).any()\n"
     ]
    },
    {
     "data": {
      "text/html": [
       "<div>\n",
       "<style scoped>\n",
       "    .dataframe tbody tr th:only-of-type {\n",
       "        vertical-align: middle;\n",
       "    }\n",
       "\n",
       "    .dataframe tbody tr th {\n",
       "        vertical-align: top;\n",
       "    }\n",
       "\n",
       "    .dataframe thead th {\n",
       "        text-align: right;\n",
       "    }\n",
       "</style>\n",
       "<table border=\"1\" class=\"dataframe\">\n",
       "  <thead>\n",
       "    <tr style=\"text-align: right;\">\n",
       "      <th></th>\n",
       "      <th>name</th>\n",
       "      <th>price</th>\n",
       "      <th>image</th>\n",
       "      <th>description</th>\n",
       "      <th>category</th>\n",
       "      <th>availability</th>\n",
       "      <th>discount</th>\n",
       "      <th>reviews</th>\n",
       "      <th>ratings</th>\n",
       "      <th>seller_info</th>\n",
       "      <th>...</th>\n",
       "      <th>host_number_of_reviews</th>\n",
       "      <th>host_rating</th>\n",
       "      <th>hosts_year</th>\n",
       "      <th>host_response_rate</th>\n",
       "      <th>is_guest_favorite</th>\n",
       "      <th>travel_details</th>\n",
       "      <th>pricing_details</th>\n",
       "      <th>total_price</th>\n",
       "      <th>currency</th>\n",
       "      <th>cancellation_policy</th>\n",
       "    </tr>\n",
       "  </thead>\n",
       "  <tbody>\n",
       "    <tr>\n",
       "      <th>0</th>\n",
       "      <td>Cabin in Big Bear · ★4.79 · 4 bedrooms · 12 be...</td>\n",
       "      <td>NaN</td>\n",
       "      <td>\"https://a0.muscache.com/pictures/fed2790d-428...</td>\n",
       "      <td>This cozy cabin compound is the perfect getawa...</td>\n",
       "      <td>Stays</td>\n",
       "      <td>True</td>\n",
       "      <td>NaN</td>\n",
       "      <td>[\"Nico &amp; Riko were great hosts! Very flexible ...</td>\n",
       "      <td>4.79</td>\n",
       "      <td>{\"seller_id\":\"23437035\",\"url\":\"https://www.air...</td>\n",
       "      <td>...</td>\n",
       "      <td>3092.0</td>\n",
       "      <td>4.80</td>\n",
       "      <td>10.0</td>\n",
       "      <td>100.0</td>\n",
       "      <td>False</td>\n",
       "      <td>{\"check_in\":\"2025-01-12T00:00:00.000Z\",\"check_...</td>\n",
       "      <td>{\"airbnb_service_fee\":119,\"cleaning_fee\":250,\"...</td>\n",
       "      <td>867.0</td>\n",
       "      <td>USD</td>\n",
       "      <td>[{\"cancellation_name\":\"No ███und███\",\"cancella...</td>\n",
       "    </tr>\n",
       "    <tr>\n",
       "      <th>1</th>\n",
       "      <td>Home in Lake Arrowhead · ★5.0 · 4 bedrooms · 4...</td>\n",
       "      <td>NaN</td>\n",
       "      <td>\"https://a0.muscache.com/pictures/hosting/Host...</td>\n",
       "      <td>Pet friendly Lakefront Cabin. 2-Minute Walk to...</td>\n",
       "      <td>Stays</td>\n",
       "      <td>True</td>\n",
       "      <td>NaN</td>\n",
       "      <td>[\"It was a wonderful cabin. Nicely designed an...</td>\n",
       "      <td>5.00</td>\n",
       "      <td>{\"seller_id\":\"342967526\",\"url\":\"https://www.ai...</td>\n",
       "      <td>...</td>\n",
       "      <td>7.0</td>\n",
       "      <td>5.00</td>\n",
       "      <td>4.0</td>\n",
       "      <td>100.0</td>\n",
       "      <td>False</td>\n",
       "      <td>{\"check_in\":\"2025-01-12T00:00:00.000Z\",\"check_...</td>\n",
       "      <td>{\"airbnb_service_fee\":152,\"cleaning_fee\":300,\"...</td>\n",
       "      <td>1117.0</td>\n",
       "      <td>USD</td>\n",
       "      <td>[{\"cancellation_name\":\"No ███und███\",\"cancella...</td>\n",
       "    </tr>\n",
       "    <tr>\n",
       "      <th>2</th>\n",
       "      <td>Home in Lake Arrowhead · ★5.0 · 4 bedrooms · 4...</td>\n",
       "      <td>NaN</td>\n",
       "      <td>\"https://a0.muscache.com/pictures/hosting/Host...</td>\n",
       "      <td>Pet friendly Lakefront Cabin. 2-Minute Walk to...</td>\n",
       "      <td>Stays</td>\n",
       "      <td>True</td>\n",
       "      <td>NaN</td>\n",
       "      <td>[\"It was a wonderful cabin. Nicely designed an...</td>\n",
       "      <td>5.00</td>\n",
       "      <td>{\"seller_id\":\"342967526\",\"url\":\"https://www.ai...</td>\n",
       "      <td>...</td>\n",
       "      <td>7.0</td>\n",
       "      <td>5.00</td>\n",
       "      <td>4.0</td>\n",
       "      <td>100.0</td>\n",
       "      <td>False</td>\n",
       "      <td>{\"check_in\":\"2025-12-01T00:00:00.000Z\",\"check_...</td>\n",
       "      <td>{\"airbnb_service_fee\":153,\"cleaning_fee\":300,\"...</td>\n",
       "      <td>1118.0</td>\n",
       "      <td>USD</td>\n",
       "      <td>[{\"cancellation_name\":\"No ███und███\",\"cancella...</td>\n",
       "    </tr>\n",
       "    <tr>\n",
       "      <th>3</th>\n",
       "      <td>Home in Lake Arrowhead · ★5.0 · 4 bedrooms · 4...</td>\n",
       "      <td>NaN</td>\n",
       "      <td>\"https://a0.muscache.com/pictures/hosting/Host...</td>\n",
       "      <td>Pet friendly Lakefront Cabin. 2-Minute Walk to...</td>\n",
       "      <td>Stays</td>\n",
       "      <td>True</td>\n",
       "      <td>NaN</td>\n",
       "      <td>[\"It was a wonderful cabin. Nicely designed an...</td>\n",
       "      <td>5.00</td>\n",
       "      <td>{\"seller_id\":\"342967526\",\"url\":\"https://www.ai...</td>\n",
       "      <td>...</td>\n",
       "      <td>7.0</td>\n",
       "      <td>5.00</td>\n",
       "      <td>4.0</td>\n",
       "      <td>100.0</td>\n",
       "      <td>False</td>\n",
       "      <td>{\"check_in\":\"2025-01-12T00:00:00.000Z\",\"check_...</td>\n",
       "      <td>{\"airbnb_service_fee\":153,\"cleaning_fee\":300,\"...</td>\n",
       "      <td>1055.0</td>\n",
       "      <td>USD</td>\n",
       "      <td>[{\"cancellation_name\":\"No ███und███\",\"cancella...</td>\n",
       "    </tr>\n",
       "    <tr>\n",
       "      <th>4</th>\n",
       "      <td>Cabin in Big Bear Lake · ★4.72 · 7 bedrooms · ...</td>\n",
       "      <td>NaN</td>\n",
       "      <td>\"https://a0.muscache.com/pictures/miso/Hosting...</td>\n",
       "      <td>Luxury Big Bear Getaway in walking distance to...</td>\n",
       "      <td>Stays</td>\n",
       "      <td>True</td>\n",
       "      <td>NaN</td>\n",
       "      <td>[\"This was a great home for our family and is ...</td>\n",
       "      <td>4.72</td>\n",
       "      <td>{\"seller_id\":\"1633935\",\"url\":\"https://www.airb...</td>\n",
       "      <td>...</td>\n",
       "      <td>9375.0</td>\n",
       "      <td>4.70</td>\n",
       "      <td>12.0</td>\n",
       "      <td>99.0</td>\n",
       "      <td>False</td>\n",
       "      <td>{\"check_in\":\"2025-01-12T00:00:00.000Z\",\"check_...</td>\n",
       "      <td>{\"airbnb_service_fee\":140,\"cleaning_fee\":515,\"...</td>\n",
       "      <td>1052.0</td>\n",
       "      <td>USD</td>\n",
       "      <td>[{\"cancellation_name\":\"No ███und███\",\"cancella...</td>\n",
       "    </tr>\n",
       "    <tr>\n",
       "      <th>...</th>\n",
       "      <td>...</td>\n",
       "      <td>...</td>\n",
       "      <td>...</td>\n",
       "      <td>...</td>\n",
       "      <td>...</td>\n",
       "      <td>...</td>\n",
       "      <td>...</td>\n",
       "      <td>...</td>\n",
       "      <td>...</td>\n",
       "      <td>...</td>\n",
       "      <td>...</td>\n",
       "      <td>...</td>\n",
       "      <td>...</td>\n",
       "      <td>...</td>\n",
       "      <td>...</td>\n",
       "      <td>...</td>\n",
       "      <td>...</td>\n",
       "      <td>...</td>\n",
       "      <td>...</td>\n",
       "      <td>...</td>\n",
       "      <td>...</td>\n",
       "    </tr>\n",
       "    <tr>\n",
       "      <th>995</th>\n",
       "      <td>Cabin in South Lake Tahoe · ★4.96 · 2 bedrooms...</td>\n",
       "      <td>2.0</td>\n",
       "      <td>\"https://a0.muscache.com/pictures/miso/Hosting...</td>\n",
       "      <td>A great house away from busy South Lake Tahoe ...</td>\n",
       "      <td>Stays</td>\n",
       "      <td>True</td>\n",
       "      <td>NaN</td>\n",
       "      <td>[\"Perfect place for our family of four to spen...</td>\n",
       "      <td>4.96</td>\n",
       "      <td>{\"seller_id\":\"415172578\",\"url\":\"https://www.ai...</td>\n",
       "      <td>...</td>\n",
       "      <td>90.0</td>\n",
       "      <td>4.96</td>\n",
       "      <td>3.0</td>\n",
       "      <td>100.0</td>\n",
       "      <td>True</td>\n",
       "      <td>{\"check_in\":\"2025-01-12T00:00:00.000Z\",\"check_...</td>\n",
       "      <td>{\"airbnb_service_fee\":79,\"cleaning_fee\":190,\"i...</td>\n",
       "      <td>641.0</td>\n",
       "      <td>USD</td>\n",
       "      <td>[{\"cancellation_name\":\"No ███und███\",\"cancella...</td>\n",
       "    </tr>\n",
       "    <tr>\n",
       "      <th>996</th>\n",
       "      <td>Cabin in South Lake Tahoe · ★4.96 · 2 bedrooms...</td>\n",
       "      <td>265.0</td>\n",
       "      <td>\"https://a0.muscache.com/pictures/hosting/Host...</td>\n",
       "      <td>Our wonderful cabin is just the place for you!...</td>\n",
       "      <td>Stays</td>\n",
       "      <td>True</td>\n",
       "      <td>NaN</td>\n",
       "      <td>[\"Great location, short walk to the Heavenly g...</td>\n",
       "      <td>4.96</td>\n",
       "      <td>{\"seller_id\":\"49679275\",\"url\":\"https://www.air...</td>\n",
       "      <td>...</td>\n",
       "      <td>230.0</td>\n",
       "      <td>4.96</td>\n",
       "      <td>9.0</td>\n",
       "      <td>100.0</td>\n",
       "      <td>True</td>\n",
       "      <td>{\"check_in\":\"2025-01-11T00:00:00.000Z\",\"check_...</td>\n",
       "      <td>{\"airbnb_service_fee\":167,\"cleaning_fee\":150,\"...</td>\n",
       "      <td>1112.0</td>\n",
       "      <td>USD</td>\n",
       "      <td>[{\"cancellation_name\":\"No ███und███\",\"cancella...</td>\n",
       "    </tr>\n",
       "    <tr>\n",
       "      <th>997</th>\n",
       "      <td>Hotel in Truckee · 1 bedroom · 3 beds · 1 bath</td>\n",
       "      <td>NaN</td>\n",
       "      <td>\"https://a0.muscache.com/pictures/hosting/Host...</td>\n",
       "      <td>This suite features 2 queen and trundle bed, s...</td>\n",
       "      <td>Stays</td>\n",
       "      <td>True</td>\n",
       "      <td>NaN</td>\n",
       "      <td>[\"Great option for dinner ski trip. Very famil...</td>\n",
       "      <td>5.00</td>\n",
       "      <td>{\"seller_id\":\"588491599\",\"url\":\"https://www.ai...</td>\n",
       "      <td>...</td>\n",
       "      <td>63.0</td>\n",
       "      <td>4.54</td>\n",
       "      <td>6.0</td>\n",
       "      <td>99.0</td>\n",
       "      <td>False</td>\n",
       "      <td>{\"check_in\":\"2025-01-10T00:00:00.000Z\",\"check_...</td>\n",
       "      <td>{\"airbnb_service_fee\":null,\"cleaning_fee\":null...</td>\n",
       "      <td>379.0</td>\n",
       "      <td>USD</td>\n",
       "      <td>[{\"cancellation_name\":\"No ███und███\",\"cancella...</td>\n",
       "    </tr>\n",
       "    <tr>\n",
       "      <th>998</th>\n",
       "      <td>Serviced apartment in Zephyr Cove · 3 bedrooms...</td>\n",
       "      <td>NaN</td>\n",
       "      <td>\"https://a0.muscache.com/pictures/miso/Hosting...</td>\n",
       "      <td>Please always ask about availability first! We...</td>\n",
       "      <td>Stays</td>\n",
       "      <td>True</td>\n",
       "      <td>NaN</td>\n",
       "      <td>NaN</td>\n",
       "      <td>0.00</td>\n",
       "      <td>{\"seller_id\":\"12568111\",\"url\":\"https://www.air...</td>\n",
       "      <td>...</td>\n",
       "      <td>385.0</td>\n",
       "      <td>4.82</td>\n",
       "      <td>11.0</td>\n",
       "      <td>100.0</td>\n",
       "      <td>False</td>\n",
       "      <td>{\"check_in\":\"2025-01-10T00:00:00.000Z\",\"check_...</td>\n",
       "      <td>{\"airbnb_service_fee\":145,\"cleaning_fee\":100,\"...</td>\n",
       "      <td>995.0</td>\n",
       "      <td>USD</td>\n",
       "      <td>[{\"cancellation_name\":\"No ███und███\",\"cancella...</td>\n",
       "    </tr>\n",
       "    <tr>\n",
       "      <th>999</th>\n",
       "      <td>Condo in Incline Village · ★4.21 · 3 bedrooms ...</td>\n",
       "      <td>NaN</td>\n",
       "      <td>\"https://a0.muscache.com/pictures/prohost-api/...</td>\n",
       "      <td>The spaceMoose RoostWC STR Permit: WSTR21-0101...</td>\n",
       "      <td>Stays</td>\n",
       "      <td>True</td>\n",
       "      <td>NaN</td>\n",
       "      <td>[\"Very clean and comfortable.  This was our 3r...</td>\n",
       "      <td>4.21</td>\n",
       "      <td>{\"seller_id\":\"163180821\",\"url\":\"https://www.ai...</td>\n",
       "      <td>...</td>\n",
       "      <td>4040.0</td>\n",
       "      <td>4.39</td>\n",
       "      <td>7.0</td>\n",
       "      <td>100.0</td>\n",
       "      <td>False</td>\n",
       "      <td>{\"check_in\":null,\"check_out\":null,\"num_of_adul...</td>\n",
       "      <td>{\"airbnb_service_fee\":null,\"cleaning_fee\":null...</td>\n",
       "      <td>NaN</td>\n",
       "      <td>USD</td>\n",
       "      <td>[{\"cancellation_name\":\"No ███und███\",\"cancella...</td>\n",
       "    </tr>\n",
       "  </tbody>\n",
       "</table>\n",
       "<p>1000 rows × 45 columns</p>\n",
       "</div>"
      ],
      "text/plain": [
       "                                                  name  price  \\\n",
       "0    Cabin in Big Bear · ★4.79 · 4 bedrooms · 12 be...    NaN   \n",
       "1    Home in Lake Arrowhead · ★5.0 · 4 bedrooms · 4...    NaN   \n",
       "2    Home in Lake Arrowhead · ★5.0 · 4 bedrooms · 4...    NaN   \n",
       "3    Home in Lake Arrowhead · ★5.0 · 4 bedrooms · 4...    NaN   \n",
       "4    Cabin in Big Bear Lake · ★4.72 · 7 bedrooms · ...    NaN   \n",
       "..                                                 ...    ...   \n",
       "995  Cabin in South Lake Tahoe · ★4.96 · 2 bedrooms...    2.0   \n",
       "996  Cabin in South Lake Tahoe · ★4.96 · 2 bedrooms...  265.0   \n",
       "997     Hotel in Truckee · 1 bedroom · 3 beds · 1 bath    NaN   \n",
       "998  Serviced apartment in Zephyr Cove · 3 bedrooms...    NaN   \n",
       "999  Condo in Incline Village · ★4.21 · 3 bedrooms ...    NaN   \n",
       "\n",
       "                                                 image  \\\n",
       "0    \"https://a0.muscache.com/pictures/fed2790d-428...   \n",
       "1    \"https://a0.muscache.com/pictures/hosting/Host...   \n",
       "2    \"https://a0.muscache.com/pictures/hosting/Host...   \n",
       "3    \"https://a0.muscache.com/pictures/hosting/Host...   \n",
       "4    \"https://a0.muscache.com/pictures/miso/Hosting...   \n",
       "..                                                 ...   \n",
       "995  \"https://a0.muscache.com/pictures/miso/Hosting...   \n",
       "996  \"https://a0.muscache.com/pictures/hosting/Host...   \n",
       "997  \"https://a0.muscache.com/pictures/hosting/Host...   \n",
       "998  \"https://a0.muscache.com/pictures/miso/Hosting...   \n",
       "999  \"https://a0.muscache.com/pictures/prohost-api/...   \n",
       "\n",
       "                                           description category  availability  \\\n",
       "0    This cozy cabin compound is the perfect getawa...    Stays          True   \n",
       "1    Pet friendly Lakefront Cabin. 2-Minute Walk to...    Stays          True   \n",
       "2    Pet friendly Lakefront Cabin. 2-Minute Walk to...    Stays          True   \n",
       "3    Pet friendly Lakefront Cabin. 2-Minute Walk to...    Stays          True   \n",
       "4    Luxury Big Bear Getaway in walking distance to...    Stays          True   \n",
       "..                                                 ...      ...           ...   \n",
       "995  A great house away from busy South Lake Tahoe ...    Stays          True   \n",
       "996  Our wonderful cabin is just the place for you!...    Stays          True   \n",
       "997  This suite features 2 queen and trundle bed, s...    Stays          True   \n",
       "998  Please always ask about availability first! We...    Stays          True   \n",
       "999  The spaceMoose RoostWC STR Permit: WSTR21-0101...    Stays          True   \n",
       "\n",
       "     discount                                            reviews  ratings  \\\n",
       "0         NaN  [\"Nico & Riko were great hosts! Very flexible ...     4.79   \n",
       "1         NaN  [\"It was a wonderful cabin. Nicely designed an...     5.00   \n",
       "2         NaN  [\"It was a wonderful cabin. Nicely designed an...     5.00   \n",
       "3         NaN  [\"It was a wonderful cabin. Nicely designed an...     5.00   \n",
       "4         NaN  [\"This was a great home for our family and is ...     4.72   \n",
       "..        ...                                                ...      ...   \n",
       "995       NaN  [\"Perfect place for our family of four to spen...     4.96   \n",
       "996       NaN  [\"Great location, short walk to the Heavenly g...     4.96   \n",
       "997       NaN  [\"Great option for dinner ski trip. Very famil...     5.00   \n",
       "998       NaN                                                NaN     0.00   \n",
       "999       NaN  [\"Very clean and comfortable.  This was our 3r...     4.21   \n",
       "\n",
       "                                           seller_info  ...  \\\n",
       "0    {\"seller_id\":\"23437035\",\"url\":\"https://www.air...  ...   \n",
       "1    {\"seller_id\":\"342967526\",\"url\":\"https://www.ai...  ...   \n",
       "2    {\"seller_id\":\"342967526\",\"url\":\"https://www.ai...  ...   \n",
       "3    {\"seller_id\":\"342967526\",\"url\":\"https://www.ai...  ...   \n",
       "4    {\"seller_id\":\"1633935\",\"url\":\"https://www.airb...  ...   \n",
       "..                                                 ...  ...   \n",
       "995  {\"seller_id\":\"415172578\",\"url\":\"https://www.ai...  ...   \n",
       "996  {\"seller_id\":\"49679275\",\"url\":\"https://www.air...  ...   \n",
       "997  {\"seller_id\":\"588491599\",\"url\":\"https://www.ai...  ...   \n",
       "998  {\"seller_id\":\"12568111\",\"url\":\"https://www.air...  ...   \n",
       "999  {\"seller_id\":\"163180821\",\"url\":\"https://www.ai...  ...   \n",
       "\n",
       "    host_number_of_reviews host_rating  hosts_year  host_response_rate  \\\n",
       "0                   3092.0        4.80        10.0               100.0   \n",
       "1                      7.0        5.00         4.0               100.0   \n",
       "2                      7.0        5.00         4.0               100.0   \n",
       "3                      7.0        5.00         4.0               100.0   \n",
       "4                   9375.0        4.70        12.0                99.0   \n",
       "..                     ...         ...         ...                 ...   \n",
       "995                   90.0        4.96         3.0               100.0   \n",
       "996                  230.0        4.96         9.0               100.0   \n",
       "997                   63.0        4.54         6.0                99.0   \n",
       "998                  385.0        4.82        11.0               100.0   \n",
       "999                 4040.0        4.39         7.0               100.0   \n",
       "\n",
       "     is_guest_favorite                                     travel_details  \\\n",
       "0                False  {\"check_in\":\"2025-01-12T00:00:00.000Z\",\"check_...   \n",
       "1                False  {\"check_in\":\"2025-01-12T00:00:00.000Z\",\"check_...   \n",
       "2                False  {\"check_in\":\"2025-12-01T00:00:00.000Z\",\"check_...   \n",
       "3                False  {\"check_in\":\"2025-01-12T00:00:00.000Z\",\"check_...   \n",
       "4                False  {\"check_in\":\"2025-01-12T00:00:00.000Z\",\"check_...   \n",
       "..                 ...                                                ...   \n",
       "995               True  {\"check_in\":\"2025-01-12T00:00:00.000Z\",\"check_...   \n",
       "996               True  {\"check_in\":\"2025-01-11T00:00:00.000Z\",\"check_...   \n",
       "997              False  {\"check_in\":\"2025-01-10T00:00:00.000Z\",\"check_...   \n",
       "998              False  {\"check_in\":\"2025-01-10T00:00:00.000Z\",\"check_...   \n",
       "999              False  {\"check_in\":null,\"check_out\":null,\"num_of_adul...   \n",
       "\n",
       "                                       pricing_details total_price currency  \\\n",
       "0    {\"airbnb_service_fee\":119,\"cleaning_fee\":250,\"...       867.0      USD   \n",
       "1    {\"airbnb_service_fee\":152,\"cleaning_fee\":300,\"...      1117.0      USD   \n",
       "2    {\"airbnb_service_fee\":153,\"cleaning_fee\":300,\"...      1118.0      USD   \n",
       "3    {\"airbnb_service_fee\":153,\"cleaning_fee\":300,\"...      1055.0      USD   \n",
       "4    {\"airbnb_service_fee\":140,\"cleaning_fee\":515,\"...      1052.0      USD   \n",
       "..                                                 ...         ...      ...   \n",
       "995  {\"airbnb_service_fee\":79,\"cleaning_fee\":190,\"i...       641.0      USD   \n",
       "996  {\"airbnb_service_fee\":167,\"cleaning_fee\":150,\"...      1112.0      USD   \n",
       "997  {\"airbnb_service_fee\":null,\"cleaning_fee\":null...       379.0      USD   \n",
       "998  {\"airbnb_service_fee\":145,\"cleaning_fee\":100,\"...       995.0      USD   \n",
       "999  {\"airbnb_service_fee\":null,\"cleaning_fee\":null...         NaN      USD   \n",
       "\n",
       "                                   cancellation_policy  \n",
       "0    [{\"cancellation_name\":\"No ███und███\",\"cancella...  \n",
       "1    [{\"cancellation_name\":\"No ███und███\",\"cancella...  \n",
       "2    [{\"cancellation_name\":\"No ███und███\",\"cancella...  \n",
       "3    [{\"cancellation_name\":\"No ███und███\",\"cancella...  \n",
       "4    [{\"cancellation_name\":\"No ███und███\",\"cancella...  \n",
       "..                                                 ...  \n",
       "995  [{\"cancellation_name\":\"No ███und███\",\"cancella...  \n",
       "996  [{\"cancellation_name\":\"No ███und███\",\"cancella...  \n",
       "997  [{\"cancellation_name\":\"No ███und███\",\"cancella...  \n",
       "998  [{\"cancellation_name\":\"No ███und███\",\"cancella...  \n",
       "999  [{\"cancellation_name\":\"No ███und███\",\"cancella...  \n",
       "\n",
       "[1000 rows x 45 columns]"
      ]
     },
     "execution_count": 3,
     "metadata": {},
     "output_type": "execute_result"
    }
   ],
   "source": [
    "df"
   ]
  },
  {
   "cell_type": "code",
   "execution_count": 4,
   "id": "8c45e7d2",
   "metadata": {
    "execution": {
     "iopub.execute_input": "2025-01-29T18:21:44.717895Z",
     "iopub.status.busy": "2025-01-29T18:21:44.717561Z",
     "iopub.status.idle": "2025-01-29T18:21:44.728619Z",
     "shell.execute_reply": "2025-01-29T18:21:44.727598Z"
    },
    "papermill": {
     "duration": 0.017385,
     "end_time": "2025-01-29T18:21:44.730362",
     "exception": false,
     "start_time": "2025-01-29T18:21:44.712977",
     "status": "completed"
    },
    "tags": []
   },
   "outputs": [
    {
     "data": {
      "text/plain": [
       "name                          0\n",
       "price                       513\n",
       "image                         0\n",
       "description                   0\n",
       "category                      0\n",
       "availability                  0\n",
       "discount                   1000\n",
       "reviews                      46\n",
       "ratings                       0\n",
       "seller_info                   0\n",
       "breadcrumbs                   0\n",
       "location                      0\n",
       "lat                           0\n",
       "long                          0\n",
       "guests                        0\n",
       "pets_allowed                 30\n",
       "description_items             0\n",
       "category_rating               0\n",
       "house_rules                   0\n",
       "details                       0\n",
       "highlights                    0\n",
       "arrangement_details         119\n",
       "amenities                     0\n",
       "images                        2\n",
       "available_dates               0\n",
       "url                           0\n",
       "final_url                     0\n",
       "listing_title                 0\n",
       "property_id                   0\n",
       "listing_name                  0\n",
       "location_details              0\n",
       "description_by_sections       0\n",
       "description_html              0\n",
       "location_details_html       341\n",
       "is_supperhost                 2\n",
       "host_number_of_reviews        2\n",
       "host_rating                   2\n",
       "hosts_year                   18\n",
       "host_response_rate           13\n",
       "is_guest_favorite             0\n",
       "travel_details                0\n",
       "pricing_details               0\n",
       "total_price                  97\n",
       "currency                      0\n",
       "cancellation_policy           0\n",
       "dtype: int64"
      ]
     },
     "execution_count": 4,
     "metadata": {},
     "output_type": "execute_result"
    }
   ],
   "source": [
    "df.isnull().sum()"
   ]
  },
  {
   "cell_type": "code",
   "execution_count": 5,
   "id": "bef8f81e",
   "metadata": {
    "execution": {
     "iopub.execute_input": "2025-01-29T18:21:44.739621Z",
     "iopub.status.busy": "2025-01-29T18:21:44.739261Z",
     "iopub.status.idle": "2025-01-29T18:21:44.748445Z",
     "shell.execute_reply": "2025-01-29T18:21:44.747556Z"
    },
    "papermill": {
     "duration": 0.01555,
     "end_time": "2025-01-29T18:21:44.749918",
     "exception": false,
     "start_time": "2025-01-29T18:21:44.734368",
     "status": "completed"
    },
    "tags": []
   },
   "outputs": [
    {
     "data": {
      "text/plain": [
       "(1000, 31)"
      ]
     },
     "execution_count": 5,
     "metadata": {},
     "output_type": "execute_result"
    }
   ],
   "source": [
    "df1=df.drop(columns =['discount','location_details_html','lat','long','images','image','category','availability','breadcrumbs','url','final_url','description_html','currency','cancellation_policy'])\n",
    "df1.shape"
   ]
  },
  {
   "cell_type": "code",
   "execution_count": 6,
   "id": "1b4907a6",
   "metadata": {
    "execution": {
     "iopub.execute_input": "2025-01-29T18:21:44.758950Z",
     "iopub.status.busy": "2025-01-29T18:21:44.758635Z",
     "iopub.status.idle": "2025-01-29T18:21:44.771341Z",
     "shell.execute_reply": "2025-01-29T18:21:44.769903Z"
    },
    "papermill": {
     "duration": 0.019312,
     "end_time": "2025-01-29T18:21:44.773198",
     "exception": false,
     "start_time": "2025-01-29T18:21:44.753886",
     "status": "completed"
    },
    "tags": []
   },
   "outputs": [
    {
     "name": "stderr",
     "output_type": "stream",
     "text": [
      "<ipython-input-6-c32c479d5c26>:4: FutureWarning: Downcasting object dtype arrays on .fillna, .ffill, .bfill is deprecated and will change in a future version. Call result.infer_objects(copy=False) instead. To opt-in to the future behavior, set `pd.set_option('future.no_silent_downcasting', True)`\n",
      "  df1['pets_allowed'] = df1['pets_allowed'].fillna(df1['pets_allowed'].mode()[0])\n"
     ]
    }
   ],
   "source": [
    "df1['price'] = df1['price'].fillna(df1['price'].median())\n",
    "df1['host_rating'] = df1['host_rating'].fillna(df['host_rating'].median())\n",
    "df1['host_response_rate'] = df1['host_response_rate'].fillna(df1['host_response_rate'].median())\n",
    "df1['pets_allowed'] = df1['pets_allowed'].fillna(df1['pets_allowed'].mode()[0])\n",
    "df1['hosts_year'] = df1['hosts_year'].fillna(df1['hosts_year'].median())\n",
    "df1['total_price'] = df1['total_price'].fillna(df1['total_price'].median())"
   ]
  },
  {
   "cell_type": "code",
   "execution_count": 7,
   "id": "8519b63d",
   "metadata": {
    "execution": {
     "iopub.execute_input": "2025-01-29T18:21:44.782683Z",
     "iopub.status.busy": "2025-01-29T18:21:44.782342Z",
     "iopub.status.idle": "2025-01-29T18:21:44.788124Z",
     "shell.execute_reply": "2025-01-29T18:21:44.787234Z"
    },
    "papermill": {
     "duration": 0.012257,
     "end_time": "2025-01-29T18:21:44.789610",
     "exception": false,
     "start_time": "2025-01-29T18:21:44.777353",
     "status": "completed"
    },
    "tags": []
   },
   "outputs": [
    {
     "data": {
      "text/plain": [
       "(1000, 31)"
      ]
     },
     "execution_count": 7,
     "metadata": {},
     "output_type": "execute_result"
    }
   ],
   "source": [
    "df1.shape"
   ]
  },
  {
   "cell_type": "code",
   "execution_count": 8,
   "id": "7082b826",
   "metadata": {
    "execution": {
     "iopub.execute_input": "2025-01-29T18:21:44.799352Z",
     "iopub.status.busy": "2025-01-29T18:21:44.798990Z",
     "iopub.status.idle": "2025-01-29T18:21:44.809544Z",
     "shell.execute_reply": "2025-01-29T18:21:44.808460Z"
    },
    "papermill": {
     "duration": 0.017278,
     "end_time": "2025-01-29T18:21:44.811220",
     "exception": false,
     "start_time": "2025-01-29T18:21:44.793942",
     "status": "completed"
    },
    "tags": []
   },
   "outputs": [
    {
     "data": {
      "text/plain": [
       "(852, 31)"
      ]
     },
     "execution_count": 8,
     "metadata": {},
     "output_type": "execute_result"
    }
   ],
   "source": [
    "df2=df1.dropna()\n",
    "df2.shape"
   ]
  },
  {
   "cell_type": "code",
   "execution_count": 9,
   "id": "cf028da4",
   "metadata": {
    "execution": {
     "iopub.execute_input": "2025-01-29T18:21:44.821258Z",
     "iopub.status.busy": "2025-01-29T18:21:44.820892Z",
     "iopub.status.idle": "2025-01-29T18:21:44.831128Z",
     "shell.execute_reply": "2025-01-29T18:21:44.830010Z"
    },
    "papermill": {
     "duration": 0.017123,
     "end_time": "2025-01-29T18:21:44.832734",
     "exception": false,
     "start_time": "2025-01-29T18:21:44.815611",
     "status": "completed"
    },
    "tags": []
   },
   "outputs": [
    {
     "data": {
      "text/plain": [
       "name                       0\n",
       "price                      0\n",
       "description                0\n",
       "reviews                    0\n",
       "ratings                    0\n",
       "seller_info                0\n",
       "location                   0\n",
       "guests                     0\n",
       "pets_allowed               0\n",
       "description_items          0\n",
       "category_rating            0\n",
       "house_rules                0\n",
       "details                    0\n",
       "highlights                 0\n",
       "arrangement_details        0\n",
       "amenities                  0\n",
       "available_dates            0\n",
       "listing_title              0\n",
       "property_id                0\n",
       "listing_name               0\n",
       "location_details           0\n",
       "description_by_sections    0\n",
       "is_supperhost              0\n",
       "host_number_of_reviews     0\n",
       "host_rating                0\n",
       "hosts_year                 0\n",
       "host_response_rate         0\n",
       "is_guest_favorite          0\n",
       "travel_details             0\n",
       "pricing_details            0\n",
       "total_price                0\n",
       "dtype: int64"
      ]
     },
     "execution_count": 9,
     "metadata": {},
     "output_type": "execute_result"
    }
   ],
   "source": [
    "df2.isnull().sum()"
   ]
  },
  {
   "cell_type": "code",
   "execution_count": 10,
   "id": "1bf2999a",
   "metadata": {
    "execution": {
     "iopub.execute_input": "2025-01-29T18:21:44.842890Z",
     "iopub.status.busy": "2025-01-29T18:21:44.842547Z",
     "iopub.status.idle": "2025-01-29T18:21:44.851203Z",
     "shell.execute_reply": "2025-01-29T18:21:44.849783Z"
    },
    "papermill": {
     "duration": 0.015599,
     "end_time": "2025-01-29T18:21:44.852830",
     "exception": false,
     "start_time": "2025-01-29T18:21:44.837231",
     "status": "completed"
    },
    "tags": []
   },
   "outputs": [
    {
     "name": "stdout",
     "output_type": "stream",
     "text": [
      "0      0\n",
      "1      0\n",
      "2      0\n",
      "3      0\n",
      "4      0\n",
      "      ..\n",
      "993    0\n",
      "994    0\n",
      "995    1\n",
      "996    1\n",
      "999    0\n",
      "Name: is_guest_favorite, Length: 852, dtype: int64\n",
      "0      1\n",
      "1      1\n",
      "2      1\n",
      "3      1\n",
      "4      0\n",
      "      ..\n",
      "993    0\n",
      "994    1\n",
      "995    1\n",
      "996    0\n",
      "999    0\n",
      "Name: pets_allowed, Length: 852, dtype: int64\n"
     ]
    },
    {
     "name": "stderr",
     "output_type": "stream",
     "text": [
      "<ipython-input-10-ca16c0018135>:1: SettingWithCopyWarning: \n",
      "A value is trying to be set on a copy of a slice from a DataFrame.\n",
      "Try using .loc[row_indexer,col_indexer] = value instead\n",
      "\n",
      "See the caveats in the documentation: https://pandas.pydata.org/pandas-docs/stable/user_guide/indexing.html#returning-a-view-versus-a-copy\n",
      "  df2['is_guest_favorite'] = df2['is_guest_favorite'].astype(int)\n",
      "<ipython-input-10-ca16c0018135>:2: SettingWithCopyWarning: \n",
      "A value is trying to be set on a copy of a slice from a DataFrame.\n",
      "Try using .loc[row_indexer,col_indexer] = value instead\n",
      "\n",
      "See the caveats in the documentation: https://pandas.pydata.org/pandas-docs/stable/user_guide/indexing.html#returning-a-view-versus-a-copy\n",
      "  df2['pets_allowed']=df2['pets_allowed'].astype(int)\n"
     ]
    }
   ],
   "source": [
    "df2['is_guest_favorite'] = df2['is_guest_favorite'].astype(int)\n",
    "df2['pets_allowed']=df2['pets_allowed'].astype(int)\n",
    "print(df2['is_guest_favorite'])\n",
    "print(df2['pets_allowed'])"
   ]
  },
  {
   "cell_type": "code",
   "execution_count": 11,
   "id": "bdf87ca0",
   "metadata": {
    "execution": {
     "iopub.execute_input": "2025-01-29T18:21:44.863112Z",
     "iopub.status.busy": "2025-01-29T18:21:44.862772Z",
     "iopub.status.idle": "2025-01-29T18:21:45.257747Z",
     "shell.execute_reply": "2025-01-29T18:21:45.256637Z"
    },
    "papermill": {
     "duration": 0.402185,
     "end_time": "2025-01-29T18:21:45.259753",
     "exception": false,
     "start_time": "2025-01-29T18:21:44.857568",
     "status": "completed"
    },
    "tags": []
   },
   "outputs": [],
   "source": [
    "df2.to_csv('/kaggle/working/drop_airbnb_dataset.csv', index=False)"
   ]
  }
 ],
 "metadata": {
  "kaggle": {
   "accelerator": "none",
   "dataSources": [
    {
     "datasetId": 6569173,
     "sourceId": 10611156,
     "sourceType": "datasetVersion"
    }
   ],
   "dockerImageVersionId": 30839,
   "isGpuEnabled": false,
   "isInternetEnabled": false,
   "language": "python",
   "sourceType": "notebook"
  },
  "kernelspec": {
   "display_name": "Python 3",
   "language": "python",
   "name": "python3"
  },
  "language_info": {
   "codemirror_mode": {
    "name": "ipython",
    "version": 3
   },
   "file_extension": ".py",
   "mimetype": "text/x-python",
   "name": "python",
   "nbconvert_exporter": "python",
   "pygments_lexer": "ipython3",
   "version": "3.10.12"
  },
  "papermill": {
   "default_parameters": {},
   "duration": 6.024041,
   "end_time": "2025-01-29T18:21:45.884362",
   "environment_variables": {},
   "exception": null,
   "input_path": "__notebook__.ipynb",
   "output_path": "__notebook__.ipynb",
   "parameters": {},
   "start_time": "2025-01-29T18:21:39.860321",
   "version": "2.6.0"
  }
 },
 "nbformat": 4,
 "nbformat_minor": 5
}
